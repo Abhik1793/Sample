{
 "cells": [
  {
   "cell_type": "code",
   "execution_count": 1,
   "id": "40c1a767-8c5a-4328-a780-8eeac3a07e4c",
   "metadata": {},
   "outputs": [
    {
     "name": "stdout",
     "output_type": "stream",
     "text": [
      "total units sold are: 15000\n",
      "Difference in units sold between category A and category B are: 50\n",
      "Ratio of units sold is: 1.5\n"
     ]
    }
   ],
   "source": [
    "categoryA=150\n",
    "categoryB=100\n",
    "totalunitsSold=categoryA*categoryB\n",
    "difference=categoryA-categoryB\n",
    "ratio=categoryA/categoryB\n",
    "print(f\"total units sold are:\",(totalunitsSold))\n",
    "print(f\"Difference in units sold between category A and category B are:\",(difference))\n",
    "print(f\"Ratio of units sold is:\",(ratio))"
   ]
  },
  {
   "cell_type": "code",
   "execution_count": 7,
   "id": "a5b15db1-ebe9-429b-9575-f29664e3f6cd",
   "metadata": {},
   "outputs": [
    {
     "name": "stdout",
     "output_type": "stream",
     "text": [
      "Dear Abhishek at age 30 are eligible for our premium loyalty program\n"
     ]
    }
   ],
   "source": [
    "customerName=\"Abhishek\"\n",
    "customerAge=str(30)\n",
    "print(f\"Dear\",(customerName),\"at age\",(customerAge),\"are eligible for our premium loyalty program\")"
   ]
  },
  {
   "cell_type": "code",
   "execution_count": 29,
   "id": "8d084e3c-9c90-4d70-88f5-1d49f2d5dae2",
   "metadata": {},
   "outputs": [
    {
     "name": "stdout",
     "output_type": "stream",
     "text": [
      "updated product prices are: [40, 60, 80, 500]\n",
      "Highest price is: 100\n",
      "lowest price is: 20\n",
      "midrange prices are: [40, 60, 80]\n"
     ]
    }
   ],
   "source": [
    "productPrices=[20,40,60,80,100]\n",
    "highestPrice=max(productPrices)\n",
    "lowestPrice=min(productPrices)\n",
    "midrangePrices=[]\n",
    "for price in productPrices:\n",
    "    if price!=highestPrice and price!= lowestPrice:\n",
    "        midrangePrices.append(price)\n",
    "updatedProductPrices=[]\n",
    "updatedProductPrices.extend(midrangePrices)\n",
    "newPremiumPrice=500\n",
    "updatedProductPrices.append(newPremiumPrice)\n",
    "print(\"updated product prices are:\",(updatedProductPrices))\n",
    "print(\"Highest price is:\",(highestPrice))\n",
    "print(\"lowest price is:\",(lowestPrice))\n",
    "print(\"midrange prices are:\",(midrangePrices))"
   ]
  },
  {
   "cell_type": "code",
   "execution_count": 41,
   "id": "26193625-8c46-4afd-be0a-efa2a0118c72",
   "metadata": {},
   "outputs": [
    {
     "name": "stdout",
     "output_type": "stream",
     "text": [
      "customerservice query:\n",
      "productName: Powerbank\n",
      "productSKU: PB001\n"
     ]
    }
   ],
   "source": [
    "productinfo={\n",
    "    \"productName\":\"Powerbank\",\n",
    "    \"productSKU\":\"PB001\",\n",
    "    \"price\":\"49.99\",\n",
    "    \"category\":\"electronics\"}\n",
    "def display_product_info(product):\n",
    "    print(\"productName:\",product[\"productName\"])\n",
    "    print(\"productSKU:\",product[\"productSKU\"])\n",
    "print(\"customerservice query:\")\n",
    "display_product_info(productinfo)"
   ]
  },
  {
   "cell_type": "code",
   "execution_count": 67,
   "id": "ef35d626-6ff7-4807-a2e3-dc88b1da4c11",
   "metadata": {},
   "outputs": [
    {
     "name": "stdin",
     "output_type": "stream",
     "text": [
      "enter stock level 600\n"
     ]
    },
    {
     "name": "stdout",
     "output_type": "stream",
     "text": [
      "stock is sufficient\n"
     ]
    }
   ],
   "source": [
    "stockLevel=int(input(\"enter stock level\"))\n",
    "upperLimit=500\n",
    "if stockLevel<100:\n",
    "    print(\"Reorder Now\")\n",
    "elif stockLevel>500:\n",
    "    print(\"stock is sufficient\")"
   ]
  },
  {
   "cell_type": "code",
   "execution_count": 83,
   "id": "730be79a-cb0f-4213-9230-090a5fc1a323",
   "metadata": {},
   "outputs": [
    {
     "name": "stdout",
     "output_type": "stream",
     "text": [
      "Using for loop:\n",
      "CLUTCH\n",
      "GEARBOX\n",
      "BREAK PADS\n",
      "AIR FILTER\n",
      "BREAK WIRES\n",
      "\n",
      "\n",
      "Using while loop:\n",
      "CLUTCH\n",
      "GEARBOX\n",
      "BREAK PADS\n",
      "AIR FILTER\n",
      "BREAK WIRES\n"
     ]
    }
   ],
   "source": [
    "carParts=[\"clutch\",\"gearbox\",\"break pads\",\"air filter\",\"break wires\"]\n",
    "print(\"Using for loop:\")\n",
    "for part in carParts:\n",
    "    print(part.upper())\n",
    "print(\"\\n\")\n",
    "print(\"Using while loop:\")    \n",
    "index=0\n",
    "while index<len(carParts):\n",
    "    print(carParts[index].upper())\n",
    "    index += 1"
   ]
  },
  {
   "cell_type": "code",
   "execution_count": 98,
   "id": "da8f7c1a-873a-4c87-ad45-5a11d60c71ff",
   "metadata": {},
   "outputs": [
    {
     "name": "stdout",
     "output_type": "stream",
     "text": [
      "Store sections and their areas:\n",
      "baggage counter:100 square feet\n",
      "security check:100 square feet\n",
      "aisle:800 square feet\n",
      "hall:10000 square feet\n"
     ]
    }
   ],
   "source": [
    "def calculate_area(length,width):\n",
    "    return length*width\n",
    "storeSections=[\n",
    "    {\"sectionName\":\"baggage counter\",\"length\":10,\"width\":10},\n",
    "    {\"sectionName\":\"security check\",\"length\":10,\"width\":10},\n",
    "    {\"sectionName\":\"aisle\",\"length\":40,\"width\":20},\n",
    "    {\"sectionName\":\"hall\",\"length\":100,\"width\":100}\n",
    "]\n",
    "print(\"Store sections and their areas:\")\n",
    "for section in storeSections:\n",
    "    sectionName=section[\"sectionName\"]\n",
    "    length=section[\"length\"]\n",
    "    width=section[\"width\"]\n",
    "    area=calculate_area(length,width)\n",
    "    print(f\"{sectionName}:{area} square feet\")"
   ]
  },
  {
   "cell_type": "code",
   "execution_count": 108,
   "id": "6971ef03-9276-4255-8ccc-029186726b29",
   "metadata": {},
   "outputs": [
    {
     "name": "stdin",
     "output_type": "stream",
     "text": [
      "Enter customer feedback Fantastic service\n"
     ]
    },
    {
     "name": "stdout",
     "output_type": "stream",
     "text": [
      "\n",
      "Customer Feedback Analysis:\n",
      "Original Feedback: Fantastic service\n",
      "Number of Vowels: 6\n",
      "Reversed Feedback: ecivres citsatnaF\n"
     ]
    }
   ],
   "source": [
    "def count_vowels(feedback):\n",
    "    vowels=\"aeiouAEIOU\"\n",
    "    count=0\n",
    "    for char in feedback:\n",
    "        if char in vowels:\n",
    "            count+=1\n",
    "    return count\n",
    "\n",
    "def reverse_message(message):\n",
    "    return message[::-1]\n",
    "\n",
    "feedback=input(\"Enter customer feedback\")\n",
    "vowelCount=count_vowels(feedback)\n",
    "reversedMessage=reverse_message(feedback)\n",
    "print(\"\\nCustomer Feedback Analysis:\")\n",
    "print(f\"Original Feedback: {feedback}\")\n",
    "print(f\"Number of Vowels: {vowelCount}\")\n",
    "print(f\"Reversed Feedback: {reversedMessage}\")"
   ]
  },
  {
   "cell_type": "code",
   "execution_count": 132,
   "id": "05c1f862-6bf3-4001-b1bc-d4da551b3ae8",
   "metadata": {},
   "outputs": [
    {
     "name": "stdout",
     "output_type": "stream",
     "text": [
      "Eligible products for discount are:\n",
      "Laptop:500\n",
      "speaker:120\n"
     ]
    }
   ],
   "source": [
    "productList=[\n",
    "    {\"name\":\"Laptop\",\"price\":500},\n",
    "    {\"name\":\"Keyboard\",\"price\":60},\n",
    "    {\"name\":\"mouse\",\"price\":20},\n",
    "    {\"name\":\"monitor\",\"price\":40},\n",
    "    {\"name\":\"speaker\",\"price\":120}\n",
    "]\n",
    "eligibleProducts=[]\n",
    "priceThreshold=100\n",
    "for product in productList:\n",
    "    if product[\"price\"]>=priceThreshold:\n",
    "        eligibleProducts.append(product)\n",
    "print(\"Eligible products for discount are:\")\n",
    "for product in eligibleProducts:\n",
    "    print(f\"{product['name']}:{product['price']}\")"
   ]
  },
  {
   "cell_type": "code",
   "execution_count": 134,
   "id": "1811e7c7-8fe0-4a38-824e-bf0295f2ba12",
   "metadata": {},
   "outputs": [
    {
     "name": "stdout",
     "output_type": "stream",
     "text": [
      "Content of 'sales_log.txt':\n",
      "Daily Sales Summary:\n",
      "Total sales: $10,000\n",
      "Top product: Wireless Headphones\n",
      "\n"
     ]
    }
   ],
   "source": [
    "with open(\"sales_log.txt\", \"w\") as file:\n",
    "    file.write(\"Daily Sales Summary:\\n\")\n",
    "    file.write(\"Total sales: $10,000\\n\")\n",
    "    file.write(\"Top product: Wireless Headphones\\n\")\n",
    "with open(\"sales_log.txt\", \"r\") as file:\n",
    "    content = file.read()\n",
    "print(\"Content of 'sales_log.txt':\")\n",
    "print(content)"
   ]
  },
  {
   "cell_type": "code",
   "execution_count": 148,
   "id": "2cddd4e6-6ed7-46b8-bff7-8a04df820e27",
   "metadata": {},
   "outputs": [
    {
     "name": "stdout",
     "output_type": "stream",
     "text": [
      "Total Sales for the Week: $5600\n",
      "Average Sales per Day: $800.0\n"
     ]
    }
   ],
   "source": [
    "salesSummary=[\n",
    "    {\"Day\":\"Sunday\",\"Sales\":1000},\n",
    "    {\"Day\":\"Monday\",\"Sales\":800},\n",
    "    {\"Day\":\"Tuesday\",\"Sales\":700},\n",
    "    {\"Day\":\"Wednesday\",\"Sales\":500},\n",
    "    {\"Day\":\"Thursday\",\"Sales\":500},\n",
    "    {\"Day\":\"Friday\",\"Sales\":900},\n",
    "    {\"Day\":\"Saturday\",\"Sales\":1200}\n",
    "]\n",
    "def calculate_total_sales(salesSummary):\n",
    "    totalSales=0\n",
    "    for sale in salesSummary:\n",
    "        totalSales+=sale[\"Sales\"]\n",
    "    return totalSales\n",
    "def calculate_average_sales(salesSummary):\n",
    "    totalSales = calculate_total_sales(salesSummary)  \n",
    "    averageSales = totalSales / len(salesSummary)\n",
    "    return averageSales\n",
    "totalSales = calculate_total_sales(salesSummary)\n",
    "averageSales = calculate_average_sales(salesSummary)\n",
    "print(f\"Total Sales for the Week: ${totalSales}\")\n",
    "print(f\"Average Sales per Day: ${averageSales}\")"
   ]
  },
  {
   "cell_type": "code",
   "execution_count": 152,
   "id": "a1866c38-ba4a-4a9d-9084-b7bdd60a7e9e",
   "metadata": {},
   "outputs": [
    {
     "name": "stdout",
     "output_type": "stream",
     "text": [
      "High Spenders (spent >= 1000):\n",
      "Erik: $2000\n",
      "Tom: $1200\n",
      "\n",
      "Medium Spenders (spent between 500 and 1000):\n",
      "Sam: $500\n",
      "John: $600\n",
      "Joe: $800\n",
      "\n",
      "Low Spenders (spent < 500):\n",
      "Peter: $300\n"
     ]
    }
   ],
   "source": [
    "#The Amounts in spent are total expenditure for the week\n",
    "customerList=[\n",
    "    {\"name\":\"Sam\",\"spent\":500},\n",
    "    {\"name\":\"John\",\"spent\":600},\n",
    "    {\"name\":\"Erik\",\"spent\":2000},\n",
    "    {\"name\":\"Tom\",\"spent\":1200},\n",
    "    {\"name\":\"Joe\",\"spent\":800},\n",
    "    {\"name\":\"Peter\",\"spent\":300}\n",
    "]\n",
    "High=[]\n",
    "Med=[]\n",
    "Low=[]\n",
    "for customer in customerList:\n",
    "    if customer[\"spent\"]>=1000:\n",
    "        High.append(customer)\n",
    "    if customer[\"spent\"]<1000 and customer[\"spent\"]>=500:\n",
    "        Med.append(customer)\n",
    "    if customer[\"spent\"]<500:\n",
    "        Low.append(customer)\n",
    "print(\"High Spenders (spent >= 1000):\")\n",
    "for customer in High:\n",
    "    print(f\"{customer['name']}: ${customer['spent']}\")\n",
    "\n",
    "print(\"\\nMedium Spenders (spent between 500 and 1000):\")\n",
    "for customer in Med:\n",
    "    print(f\"{customer['name']}: ${customer['spent']}\")\n",
    "\n",
    "print(\"\\nLow Spenders (spent < 500):\")\n",
    "for customer in Low:\n",
    "    print(f\"{customer['name']}: ${customer['spent']}\")"
   ]
  },
  {
   "cell_type": "code",
   "execution_count": 166,
   "id": "77a840d3-bc43-42d2-8293-599cfe6ae62c",
   "metadata": {},
   "outputs": [
    {
     "name": "stdout",
     "output_type": "stream",
     "text": [
      "Product: Laptop, Original Price: $500, Discounted Price: $400.00\n",
      "Product: Keyboard, Original Price: $60, Discounted Price: $54.00\n",
      "Product: mouse, Original Price: $20, Discounted Price: $18.00\n",
      "Product: monitor, Original Price: $40, Discounted Price: $20.00\n",
      "Product: speaker, Original Price: $120, Discounted Price: $108.00\n"
     ]
    }
   ],
   "source": [
    "productList=[\n",
    "    {\"name\":\"Laptop\",\"price\":500,\"Discount%\":20},\n",
    "    {\"name\":\"Keyboard\",\"price\":60,\"Discount%\":10},\n",
    "    {\"name\":\"mouse\",\"price\":20,\"Discount%\":10},\n",
    "    {\"name\":\"monitor\",\"price\":40,\"Discount%\":50},\n",
    "    {\"name\":\"speaker\",\"price\":120,\"Discount%\":10}\n",
    "]\n",
    "def calculate_discount(productList):\n",
    "    discountedPrices=[]\n",
    "    for product in productList:\n",
    "        discountedAmount=product[\"price\"]*(product[\"Discount%\"]/100)\n",
    "        discounted_price = product[\"price\"] - discountedAmount\n",
    "        discountedPrices.append({\"name\": product[\"name\"], \"original_price\": product[\"price\"], \"discounted_price\": discounted_price})\n",
    "    return discountedPrices\n",
    "discounted_products = calculate_discount(productList)\n",
    "for product in discounted_products:\n",
    "    print(f\"Product: {product['name']}, Original Price: ${product['original_price']}, Discounted Price: ${product['discounted_price']:.2f}\")"
   ]
  },
  {
   "cell_type": "code",
   "execution_count": 180,
   "id": "98118d70-3b3a-459f-9192-fe96e39e1eaa",
   "metadata": {},
   "outputs": [
    {
     "name": "stdin",
     "output_type": "stream",
     "text": [
      "Enter customer feedback Excellent service\n"
     ]
    },
    {
     "name": "stdout",
     "output_type": "stream",
     "text": [
      "Positive\n"
     ]
    }
   ],
   "source": [
    "customerFeedback=str(input(\"Enter customer feedback\"))\n",
    "customerFeedback=customerFeedback.lower()\n",
    "positive_keywords = [\"good\", \"happy\", \"excellent\", \"great\", \"amazing\", \"fantastic\", \"satisfied\"]\n",
    "negative_keywords = [\"bad\", \"disappointed\", \"poor\", \"terrible\", \"awful\", \"horrible\", \"unsatisfied\"]\n",
    "if any(keyword in customerFeedback for keyword in positive_keywords):\n",
    "    print(\"Positive\")\n",
    "elif any(keyword in customerFeedback for keyword in negative_keywords):\n",
    "    print(\"Negative\")\n",
    "else:\n",
    "    print(\"Neutral\")"
   ]
  },
  {
   "cell_type": "code",
   "execution_count": 196,
   "id": "ff5f9735-49f3-4e66-87d0-7922a9dac485",
   "metadata": {},
   "outputs": [
    {
     "name": "stdout",
     "output_type": "stream",
     "text": [
      "Employee: Amit, Original Salary: 700000, New Salary: 721000.00\n",
      "Employee: Raj, Original Salary: 500000, New Salary: 515000.00\n",
      "Employee: Rahul, Original Salary: 350000, New Salary: 378000.00\n",
      "Employee: Sheetal, Original Salary: 350000, New Salary: 402500.00\n",
      "Employee: Sumeet, Original Salary: 600000, New Salary: 690000.00\n"
     ]
    }
   ],
   "source": [
    "upperlimit=10\n",
    "employeeList=[\n",
    "    {\"name\":\"Amit\",\"salary\":700000,\"performance\":3},\n",
    "    {\"name\":\"Raj\",\"salary\":500000,\"performance\":5},\n",
    "    {\"name\":\"Rahul\",\"salary\":350000,\"performance\":7},\n",
    "    {\"name\":\"Sheetal\",\"salary\":350000,\"performance\":9},\n",
    "    {\"name\":\"Sumeet\",\"salary\":600000,\"performance\":10}\n",
    "]\n",
    "def calculate_salary_hike(employeeList):\n",
    "    for employee in employeeList:\n",
    "        performance=employee[\"performance\"]\n",
    "        if performance>=8:\n",
    "            hike_percentage=0.15\n",
    "        elif 5< performance< 8:\n",
    "            hike_percentage=0.08\n",
    "        else:\n",
    "            hike_percentage=0.03\n",
    "        newSalary = employee[\"salary\"] * (1 + hike_percentage)\n",
    "        employee[\"newSalary\"] = newSalary\n",
    "    return employeeList\n",
    "updatedEmployeeList = calculate_salary_hike(employeeList)\n",
    "for employee in updatedEmployeeList:\n",
    "    print(f\"Employee: {employee['name']}, Original Salary: {employee['salary']}, New Salary: {employee['newSalary']:.2f}\")"
   ]
  },
  {
   "cell_type": "code",
   "execution_count": 202,
   "id": "dddb9213-836e-4cfb-a578-332214595086",
   "metadata": {},
   "outputs": [
    {
     "name": "stdout",
     "output_type": "stream",
     "text": [
      "total sales are: 21850\n",
      "average sales are: 704.8387096774194\n",
      "Monthly sales report generated and saved to 'monthly_report.txt'\n"
     ]
    }
   ],
   "source": [
    "dailySales = [500, 600, 550, 700, 650, 800, 750, 620, 580, 690, \n",
    "               710, 730, 680, 750, 790, 800, 820, 780, 690, 670,\n",
    "               730, 710, 760, 800, 750, 730, 680, 720, 710, 690, 710]\n",
    "totalSales = sum(dailySales)\n",
    "averageSales = totalSales / len(dailySales)\n",
    "with open(\"monthly_report.txt\", \"w\") as file:\n",
    "    file.write(\"Monthly Sales Report\\n\")\n",
    "    file.write(\"=====================\\n\")\n",
    "    file.write(f\"Total Sales: ${totalSales}\\n\")\n",
    "    file.write(f\"Average Daily Sales: ${averageSales:.2f}\\n\")\n",
    "print(\"total sales are:\",(totalSales))\n",
    "print(\"average sales are:\",(averageSales))\n",
    "print(\"Monthly sales report generated and saved to 'monthly_report.txt'\")"
   ]
  },
  {
   "cell_type": "code",
   "execution_count": 228,
   "id": "0899c4cd-04f4-4717-8a65-fb8092145ac2",
   "metadata": {},
   "outputs": [
    {
     "name": "stdout",
     "output_type": "stream",
     "text": [
      "No need to Replenish\n",
      "products to be replenished are:Keyboard\n",
      "products to be replenished are:mouse\n",
      "products to be replenished are:monitor\n",
      "No need to Replenish\n"
     ]
    }
   ],
   "source": [
    "productStock=[\n",
    "    {\"name\":\"Laptop\",\"quantity\":500},\n",
    "    {\"name\":\"Keyboard\",\"quantity\":60},\n",
    "    {\"name\":\"mouse\",\"quantity\":20},\n",
    "    {\"name\":\"monitor\",\"quantity\":40},\n",
    "    {\"name\":\"speaker\",\"quantity\":120}\n",
    "]\n",
    "for product in productStock:\n",
    "    stockLevel=product[\"quantity\"]\n",
    "    if stockLevel<100:\n",
    "        print(f\"products to be replenished are:{product[\"name\"]}\")\n",
    "    else:\n",
    "        print(f\"No need to Replenish\")"
   ]
  },
  {
   "cell_type": "code",
   "execution_count": 230,
   "id": "c1a9175f-9dd4-4451-9137-fca47b3695c3",
   "metadata": {},
   "outputs": [
    {
     "name": "stdout",
     "output_type": "stream",
     "text": [
      "Cleaned Customer Names:\n",
      "Ajay\n",
      "Subrahmanyam\n",
      "Narayanan\n",
      "Pradeep\n",
      "Sharath Chandra\n"
     ]
    }
   ],
   "source": [
    "customer_names = [\n",
    "    \"AJAY\",\"SubrahMANYAM\",\"narayanan\",\"prAdEEp\",\"sharath chandra\"\n",
    "]\n",
    "def trim_name(name):\n",
    "    return name.strip()\n",
    "def capitalize_name(name):\n",
    "    return name.title()\n",
    "def clean_customer_names(names):\n",
    "    cleaned_names = []\n",
    "    for name in names:\n",
    "        trimmed_name = trim_name(name)\n",
    "        capitalized_name = capitalize_name(trimmed_name)\n",
    "        cleaned_names.append(capitalized_name)\n",
    "    return cleaned_names\n",
    "cleaned_names = clean_customer_names(customer_names)\n",
    "print(\"Cleaned Customer Names:\")\n",
    "for name in cleaned_names:\n",
    "    print(name)"
   ]
  },
  {
   "cell_type": "code",
   "execution_count": 232,
   "id": "96f55b05-d0b1-4435-ac44-5ffd74f21849",
   "metadata": {},
   "outputs": [
    {
     "name": "stdout",
     "output_type": "stream",
     "text": [
      "Forecasted Sales for Next Month: $11000.00\n"
     ]
    }
   ],
   "source": [
    "sales_last_3_months = [10000, 12000, 11000]\n",
    "def forecast_sales(last_3_months_sales):\n",
    "    average_sales = sum(last_3_months_sales) / len(last_3_months_sales)\n",
    "    return average_sales\n",
    "forecasted_sales = forecast_sales(sales_last_3_months)\n",
    "print(f\"Forecasted Sales for Next Month: ${forecasted_sales:.2f}\")"
   ]
  },
  {
   "cell_type": "code",
   "execution_count": 234,
   "id": "640a2ba9-fee8-4a50-8070-1f4e07750085",
   "metadata": {},
   "outputs": [
    {
     "name": "stdout",
     "output_type": "stream",
     "text": [
      "Customer Loyalty Points:\n",
      "John Doe: $150 purchase -> 225.00 loyalty points\n",
      "Jane Smith: $600 purchase -> 1200.00 loyalty points\n",
      "Alice Johnson: $1000 purchase -> 3000.00 loyalty points\n",
      "Bob Brown: $250 purchase -> 375.00 loyalty points\n",
      "Mary White: $50 purchase -> 50.00 loyalty points\n"
     ]
    }
   ],
   "source": [
    "customers = [\n",
    "    {\"name\": \"John Doe\", \"total_purchase\": 150},\n",
    "    {\"name\": \"Jane Smith\", \"total_purchase\": 600},\n",
    "    {\"name\": \"Alice Johnson\", \"total_purchase\": 1000},\n",
    "    {\"name\": \"Bob Brown\", \"total_purchase\": 250},\n",
    "    {\"name\": \"Mary White\", \"total_purchase\": 50}\n",
    "]\n",
    "def calculate_loyalty_points(total_purchase):\n",
    "    if total_purchase < 100:\n",
    "        multiplier = 1  # 1 point per dollar for purchases below 100\n",
    "    elif 100 <= total_purchase < 500:\n",
    "        multiplier = 1.5  # 1.5 points per dollar for purchases between 100 and 500\n",
    "    elif 500 <= total_purchase < 1000:\n",
    "        multiplier = 2  # 2 points per dollar for purchases between 500 and 1000\n",
    "    else:\n",
    "        multiplier = 3  # 3 points per dollar for purchases above 1000    \n",
    "    loyalty_points = total_purchase * multiplier\n",
    "    return loyalty_points\n",
    "print(\"Customer Loyalty Points:\")\n",
    "for customer in customers:\n",
    "    name = customer[\"name\"]\n",
    "    total_purchase = customer[\"total_purchase\"]\n",
    "    loyalty_points = calculate_loyalty_points(total_purchase)\n",
    "    print(f\"{name}: ${total_purchase} purchase -> {loyalty_points:.2f} loyalty points\")"
   ]
  },
  {
   "cell_type": "code",
   "execution_count": null,
   "id": "aa868f33-32dc-482a-ac29-885d843d1d29",
   "metadata": {},
   "outputs": [],
   "source": []
  }
 ],
 "metadata": {
  "kernelspec": {
   "display_name": "Python 3 (ipykernel)",
   "language": "python",
   "name": "python3"
  },
  "language_info": {
   "codemirror_mode": {
    "name": "ipython",
    "version": 3
   },
   "file_extension": ".py",
   "mimetype": "text/x-python",
   "name": "python",
   "nbconvert_exporter": "python",
   "pygments_lexer": "ipython3",
   "version": "3.12.4"
  }
 },
 "nbformat": 4,
 "nbformat_minor": 5
}
